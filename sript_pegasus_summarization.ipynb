{
 "cells": [
  {
   "cell_type": "code",
   "execution_count": 15,
   "id": "cf85af38",
   "metadata": {},
   "outputs": [],
   "source": [
    "from transformers import PegasusTokenizer, PegasusForConditionalGeneration"
   ]
  },
  {
   "cell_type": "code",
   "execution_count": 16,
   "id": "009c0e08",
   "metadata": {},
   "outputs": [
    {
     "name": "stderr",
     "output_type": "stream",
     "text": [
      "Some weights of PegasusForConditionalGeneration were not initialized from the model checkpoint at google/pegasus-cnn_dailymail and are newly initialized: ['model.decoder.embed_positions.weight', 'model.encoder.embed_positions.weight']\n",
      "You should probably TRAIN this model on a down-stream task to be able to use it for predictions and inference.\n"
     ]
    },
    {
     "name": "stderr",
     "output_type": "stream",
     "text": [
      "Xet Storage is enabled for this repo, but the 'hf_xet' package is not installed. Falling back to regular HTTP download. For better performance, install the package with: `pip install huggingface_hub[hf_xet]` or `pip install hf_xet`\n"
     ]
    }
   ],
   "source": [
    "# Load model and tokenizer\n",
    "model_name = \"google/pegasus-cnn_dailymail\"\n",
    "tokenizer = PegasusTokenizer.from_pretrained(model_name)\n",
    "model = PegasusForConditionalGeneration.from_pretrained(model_name)"
   ]
  },
  {
   "cell_type": "code",
   "execution_count": 34,
   "id": "34cb580d",
   "metadata": {},
   "outputs": [],
   "source": [
    "def summarize(text: str) -> str:\n",
    "\n",
    "    # Tokenize the text\n",
    "    inputs = tokenizer(text, truncation=True, padding=\"longest\", return_tensors=\"pt\")\n",
    "\n",
    "    # Generate summary\n",
    "    summary_ids = model.generate(**inputs, early_stopping=True)\n",
    "\n",
    "    # Decode and print summary\n",
    "    summary = tokenizer.decode(summary_ids[0], skip_special_tokens=True)\n",
    "    return summary"
   ]
  },
  {
   "cell_type": "code",
   "execution_count": 35,
   "id": "fd05dc46",
   "metadata": {},
   "outputs": [
    {
     "name": "stdout",
     "output_type": "stream",
     "text": [
      "Climate change is affecting every country on every continent.<n>It is disrupting national economies and affecting lives, costing people, communities, and countries dearly today and even more tomorrow.\n"
     ]
    }
   ],
   "source": [
    "# Your input text\n",
    "text = \"\"\"\n",
    "Climate change is affecting every country on every continent. It is disrupting national economies \n",
    "and affecting lives, costing people, communities, and countries dearly today and even more tomorrow. \n",
    "Weather patterns are changing, sea levels are rising, and weather events are becoming more extreme.\n",
    "\"\"\"\n",
    "\n",
    "print(summarize(text))"
   ]
  },
  {
   "cell_type": "code",
   "execution_count": 36,
   "id": "89c0b303",
   "metadata": {},
   "outputs": [
    {
     "name": "stdout",
     "output_type": "stream",
     "text": [
      "Shinichi joins Ran and their friends on a trip to Kyoto .<n>There, he meets Keiko, an old actress friend of his mother .\n"
     ]
    }
   ],
   "source": [
    "example2 = \"\"\"Temporarily restored to his normal size, Shinichi joins Ran and their friends on a trip to Kyoto.\n",
    "There, he meets Keiko, an old actress friend of his mother, who has received a strange code from a friend who committed suicide years ago.\n",
    "\"\"\"\n",
    "\n",
    "print(summarize(example2))"
   ]
  },
  {
   "cell_type": "code",
   "execution_count": 37,
   "id": "d8246366",
   "metadata": {},
   "outputs": [
    {
     "name": "stdout",
     "output_type": "stream",
     "text": [
      "Five gay men from different walks of life are confronted with important choices that could change everything for them.<n>Five gay men from different walks of life are confronted with important choices that could change everything for them.\n"
     ]
    }
   ],
   "source": [
    "example3 = \"Five gay men from different walks of life are confronted with important choices that could change everything for them.\"\n",
    "print(summarize(example3))"
   ]
  },
  {
   "cell_type": "code",
   "execution_count": 39,
   "id": "872b3f2c",
   "metadata": {},
   "outputs": [
    {
     "data": {
      "text/html": [
       "<div>\n",
       "<style scoped>\n",
       "    .dataframe tbody tr th:only-of-type {\n",
       "        vertical-align: middle;\n",
       "    }\n",
       "\n",
       "    .dataframe tbody tr th {\n",
       "        vertical-align: top;\n",
       "    }\n",
       "\n",
       "    .dataframe thead th {\n",
       "        text-align: right;\n",
       "    }\n",
       "</style>\n",
       "<table border=\"1\" class=\"dataframe\">\n",
       "  <thead>\n",
       "    <tr style=\"text-align: right;\">\n",
       "      <th></th>\n",
       "      <th>titleLink</th>\n",
       "      <th>storyLine</th>\n",
       "    </tr>\n",
       "  </thead>\n",
       "  <tbody>\n",
       "    <tr>\n",
       "      <th>0</th>\n",
       "      <td>https://www.imdb.com/title/tt1727434/</td>\n",
       "      <td>Ethan Morgan is a geeky freshman, not trusted ...</td>\n",
       "    </tr>\n",
       "    <tr>\n",
       "      <th>1</th>\n",
       "      <td>https://www.imdb.com/title/tt0084855/</td>\n",
       "      <td>Frank Galvin was once a promising Boston lawye...</td>\n",
       "    </tr>\n",
       "    <tr>\n",
       "      <th>2</th>\n",
       "      <td>https://www.imdb.com/title/tt1971325/</td>\n",
       "      <td>2044. The climate change and a series of solar...</td>\n",
       "    </tr>\n",
       "    <tr>\n",
       "      <th>3</th>\n",
       "      <td>https://www.imdb.com/title/tt0372824/</td>\n",
       "      <td>Fond de l'Etang is a boarding school for troub...</td>\n",
       "    </tr>\n",
       "    <tr>\n",
       "      <th>4</th>\n",
       "      <td>https://www.imdb.com/title/tt4276820/</td>\n",
       "      <td>1954. Having worked as a salesman most of his ...</td>\n",
       "    </tr>\n",
       "  </tbody>\n",
       "</table>\n",
       "</div>"
      ],
      "text/plain": [
       "                               titleLink  \\\n",
       "0  https://www.imdb.com/title/tt1727434/   \n",
       "1  https://www.imdb.com/title/tt0084855/   \n",
       "2  https://www.imdb.com/title/tt1971325/   \n",
       "3  https://www.imdb.com/title/tt0372824/   \n",
       "4  https://www.imdb.com/title/tt4276820/   \n",
       "\n",
       "                                           storyLine  \n",
       "0  Ethan Morgan is a geeky freshman, not trusted ...  \n",
       "1  Frank Galvin was once a promising Boston lawye...  \n",
       "2  2044. The climate change and a series of solar...  \n",
       "3  Fond de l'Etang is a boarding school for troub...  \n",
       "4  1954. Having worked as a salesman most of his ...  "
      ]
     },
     "execution_count": 39,
     "metadata": {},
     "output_type": "execute_result"
    }
   ],
   "source": [
    "import pandas as pd\n",
    "\n",
    "# Read the CSV file\n",
    "df = pd.read_csv('clean_db.csv')\n",
    "\n",
    "# Display the first few rows of the dataframe\n",
    "df.head()"
   ]
  },
  {
   "cell_type": "code",
   "execution_count": 40,
   "id": "e4f1f37a",
   "metadata": {},
   "outputs": [
    {
     "data": {
      "text/html": [
       "<div>\n",
       "<style scoped>\n",
       "    .dataframe tbody tr th:only-of-type {\n",
       "        vertical-align: middle;\n",
       "    }\n",
       "\n",
       "    .dataframe tbody tr th {\n",
       "        vertical-align: top;\n",
       "    }\n",
       "\n",
       "    .dataframe thead th {\n",
       "        text-align: right;\n",
       "    }\n",
       "</style>\n",
       "<table border=\"1\" class=\"dataframe\">\n",
       "  <thead>\n",
       "    <tr style=\"text-align: right;\">\n",
       "      <th></th>\n",
       "      <th>titleLink</th>\n",
       "      <th>storyLine</th>\n",
       "      <th>pegasusSummary</th>\n",
       "    </tr>\n",
       "  </thead>\n",
       "  <tbody>\n",
       "    <tr>\n",
       "      <th>0</th>\n",
       "      <td>https://www.imdb.com/title/tt1727434/</td>\n",
       "      <td>Ethan Morgan is a geeky freshman, not trusted ...</td>\n",
       "      <td></td>\n",
       "    </tr>\n",
       "    <tr>\n",
       "      <th>1</th>\n",
       "      <td>https://www.imdb.com/title/tt0084855/</td>\n",
       "      <td>Frank Galvin was once a promising Boston lawye...</td>\n",
       "      <td></td>\n",
       "    </tr>\n",
       "    <tr>\n",
       "      <th>2</th>\n",
       "      <td>https://www.imdb.com/title/tt1971325/</td>\n",
       "      <td>2044. The climate change and a series of solar...</td>\n",
       "      <td></td>\n",
       "    </tr>\n",
       "    <tr>\n",
       "      <th>3</th>\n",
       "      <td>https://www.imdb.com/title/tt0372824/</td>\n",
       "      <td>Fond de l'Etang is a boarding school for troub...</td>\n",
       "      <td></td>\n",
       "    </tr>\n",
       "    <tr>\n",
       "      <th>4</th>\n",
       "      <td>https://www.imdb.com/title/tt4276820/</td>\n",
       "      <td>1954. Having worked as a salesman most of his ...</td>\n",
       "      <td></td>\n",
       "    </tr>\n",
       "  </tbody>\n",
       "</table>\n",
       "</div>"
      ],
      "text/plain": [
       "                               titleLink  \\\n",
       "0  https://www.imdb.com/title/tt1727434/   \n",
       "1  https://www.imdb.com/title/tt0084855/   \n",
       "2  https://www.imdb.com/title/tt1971325/   \n",
       "3  https://www.imdb.com/title/tt0372824/   \n",
       "4  https://www.imdb.com/title/tt4276820/   \n",
       "\n",
       "                                           storyLine pegasusSummary  \n",
       "0  Ethan Morgan is a geeky freshman, not trusted ...                 \n",
       "1  Frank Galvin was once a promising Boston lawye...                 \n",
       "2  2044. The climate change and a series of solar...                 \n",
       "3  Fond de l'Etang is a boarding school for troub...                 \n",
       "4  1954. Having worked as a salesman most of his ...                 "
      ]
     },
     "execution_count": 40,
     "metadata": {},
     "output_type": "execute_result"
    }
   ],
   "source": [
    "# Add a new column to the dataframe\n",
    "df['pegasusSummary'] = ''\n",
    "df.head()"
   ]
  },
  {
   "cell_type": "code",
   "execution_count": 41,
   "id": "82ef5605",
   "metadata": {},
   "outputs": [],
   "source": [
    "df['pegasusSummary'] = df['storyLine'].apply(summarize)\n",
    "\n",
    "df.to_csv('final_db_with_pegasus_summaries.csv', index=False)\n"
   ]
  }
 ],
 "metadata": {
  "kernelspec": {
   "display_name": ".venv",
   "language": "python",
   "name": "python3"
  },
  "language_info": {
   "codemirror_mode": {
    "name": "ipython",
    "version": 3
   },
   "file_extension": ".py",
   "mimetype": "text/x-python",
   "name": "python",
   "nbconvert_exporter": "python",
   "pygments_lexer": "ipython3",
   "version": "3.13.1"
  }
 },
 "nbformat": 4,
 "nbformat_minor": 5
}
