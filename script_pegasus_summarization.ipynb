{
 "cells": [
  {
   "cell_type": "markdown",
   "id": "401fd911",
   "metadata": {},
   "source": [
    "### Perform PEGASUS summarization\n",
    "\n",
    "I used this notebook for performing summarization on all of the movie storylines I had in my dataset. \n",
    "The whole notebook took almost 34 hours to finish its job."
   ]
  },
  {
   "cell_type": "code",
   "execution_count": null,
   "id": "cf85af38",
   "metadata": {},
   "outputs": [],
   "source": [
    "from transformers import PegasusTokenizer, PegasusForConditionalGeneration"
   ]
  },
  {
   "cell_type": "code",
   "execution_count": null,
   "id": "009c0e08",
   "metadata": {},
   "outputs": [],
   "source": [
    "# Load model and tokenizer\n",
    "model_name = \"google/pegasus-cnn_dailymail\"\n",
    "tokenizer = PegasusTokenizer.from_pretrained(model_name)\n",
    "model = PegasusForConditionalGeneration.from_pretrained(model_name)"
   ]
  },
  {
   "cell_type": "code",
   "execution_count": null,
   "id": "34cb580d",
   "metadata": {},
   "outputs": [],
   "source": [
    "def summarize(text: str) -> str:\n",
    "\n",
    "    # Tokenize the text\n",
    "    inputs = tokenizer(text, truncation=True, padding=\"longest\", return_tensors=\"pt\")\n",
    "\n",
    "    # Generate summary\n",
    "    summary_ids = model.generate(**inputs, early_stopping=True)\n",
    "\n",
    "    # Decode and print summary\n",
    "    summary = tokenizer.decode(summary_ids[0], skip_special_tokens=True)\n",
    "    return summary"
   ]
  },
  {
   "cell_type": "code",
   "execution_count": null,
   "id": "fd05dc46",
   "metadata": {},
   "outputs": [],
   "source": [
    "# Your input text\n",
    "text = \"\"\"\n",
    "Climate change is affecting every country on every continent. It is disrupting national economies \n",
    "and affecting lives, costing people, communities, and countries dearly today and even more tomorrow. \n",
    "Weather patterns are changing, sea levels are rising, and weather events are becoming more extreme.\n",
    "\"\"\"\n",
    "\n",
    "print(summarize(text))"
   ]
  },
  {
   "cell_type": "code",
   "execution_count": null,
   "id": "89c0b303",
   "metadata": {},
   "outputs": [],
   "source": [
    "example2 = \"\"\"Temporarily restored to his normal size, Shinichi joins Ran and their friends on a trip to Kyoto.\n",
    "There, he meets Keiko, an old actress friend of his mother, who has received a strange code from a friend who committed suicide years ago.\n",
    "\"\"\"\n",
    "\n",
    "print(summarize(example2))"
   ]
  },
  {
   "cell_type": "code",
   "execution_count": null,
   "id": "d8246366",
   "metadata": {},
   "outputs": [],
   "source": [
    "example3 = \"Five gay men from different walks of life are confronted with important choices that could change everything for them.\"\n",
    "print(summarize(example3))"
   ]
  },
  {
   "cell_type": "code",
   "execution_count": null,
   "id": "872b3f2c",
   "metadata": {},
   "outputs": [],
   "source": [
    "import pandas as pd\n",
    "\n",
    "# Read the CSV file\n",
    "df = pd.read_csv('clean_db.csv')\n",
    "\n",
    "# Display the first few rows of the dataframe\n",
    "df.head()"
   ]
  },
  {
   "cell_type": "code",
   "execution_count": null,
   "id": "e4f1f37a",
   "metadata": {},
   "outputs": [],
   "source": [
    "# Add a new column to the dataframe\n",
    "df['pegasusSummary'] = ''\n",
    "df.head()"
   ]
  },
  {
   "cell_type": "code",
   "execution_count": null,
   "id": "82ef5605",
   "metadata": {},
   "outputs": [],
   "source": [
    "df['pegasusSummary'] = df['storyLine'].apply(summarize)\n",
    "\n",
    "df.to_csv('final_db_with_pegasus_summaries.csv', index=False)\n"
   ]
  }
 ],
 "metadata": {
  "kernelspec": {
   "display_name": ".venv",
   "language": "python",
   "name": "python3"
  },
  "language_info": {
   "codemirror_mode": {
    "name": "ipython",
    "version": 3
   },
   "file_extension": ".py",
   "mimetype": "text/x-python",
   "name": "python",
   "nbconvert_exporter": "python",
   "pygments_lexer": "ipython3",
   "version": "3.13.1"
  }
 },
 "nbformat": 4,
 "nbformat_minor": 5
}
