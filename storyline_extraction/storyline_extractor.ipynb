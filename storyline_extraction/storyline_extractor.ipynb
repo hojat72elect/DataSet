{
 "cells": [
  {
   "cell_type": "code",
   "execution_count": 5,
   "id": "8d9697fc",
   "metadata": {},
   "outputs": [],
   "source": [
    "import requests\n",
    "import bs4 as bs\n",
    "\n",
    "import pandas as pd"
   ]
  },
  {
   "cell_type": "code",
   "execution_count": 6,
   "id": "ecc0cf6f",
   "metadata": {},
   "outputs": [],
   "source": [
    "def extract_storyline(url: str):\n",
    "    headers = {\"User-Agent\": \"Mozilla/5.0\"}\n",
    "    response = requests.get(url, headers=headers)\n",
    "    page_markups = bs.BeautifulSoup(response.content, \"html.parser\")\n",
    "    storyline_tag = page_markups.find(\"span\", {\"class\": \"sc-e32edc92-2 hREhQQ\", \"data-testid\": \"plot-xl\"})\n",
    "    if storyline_tag is None:\n",
    "        return \"\"\n",
    "    return storyline_tag.text.strip()"
   ]
  },
  {
   "cell_type": "code",
   "execution_count": 7,
   "id": "a0892bf4",
   "metadata": {},
   "outputs": [
    {
     "name": "stdout",
     "output_type": "stream",
     "text": [
      "number of entries with storyline: 6390\n",
      "number of entries without storyline: 993610\n"
     ]
    },
    {
     "name": "stderr",
     "output_type": "stream",
     "text": [
      "C:\\Users\\hojat\\AppData\\Local\\Temp\\ipykernel_25676\\2491897198.py:1: DtypeWarning: Columns (1) have mixed types. Specify dtype option on import or set low_memory=False.\n",
      "  initial_dataframe = pd.read_csv(\"db_v2.csv\")\n"
     ]
    }
   ],
   "source": [
    "initial_dataframe = pd.read_csv(\"db_v2.csv\")\n",
    "\n",
    "\n",
    "print(\"number of entries with storyline:\", initial_dataframe[\"storyline\"].notnull().sum())\n",
    "print(\"number of entries without storyline:\", initial_dataframe[\"storyline\"].isnull().sum())\n",
    "\n"
   ]
  },
  {
   "cell_type": "code",
   "execution_count": null,
   "id": "992738fc",
   "metadata": {},
   "outputs": [],
   "source": [
    "storyline_present_df = initial_dataframe[initial_dataframe[\"storyline\"].notnull()]\n",
    "storyline_not_present_df = initial_dataframe[initial_dataframe[\"storyline\"].isnull()]"
   ]
  },
  {
   "cell_type": "code",
   "execution_count": 9,
   "id": "39df9e27",
   "metadata": {},
   "outputs": [],
   "source": [
    "storyline_present_df.to_csv(\"v3_with_storyline.csv\", index=False)\n",
    "storyline_not_present_df.to_csv(\"storyline_not_present.csv\", index=False)"
   ]
  }
 ],
 "metadata": {
  "kernelspec": {
   "display_name": ".venv",
   "language": "python",
   "name": "python3"
  },
  "language_info": {
   "codemirror_mode": {
    "name": "ipython",
    "version": 3
   },
   "file_extension": ".py",
   "mimetype": "text/x-python",
   "name": "python",
   "nbconvert_exporter": "python",
   "pygments_lexer": "ipython3",
   "version": "3.13.1"
  }
 },
 "nbformat": 4,
 "nbformat_minor": 5
}
