{
 "cells": [
  {
   "cell_type": "code",
   "execution_count": 1,
   "id": "209b360c",
   "metadata": {},
   "outputs": [],
   "source": [
    "import requests\n",
    "import bs4 as bs\n",
    "\n",
    "import pandas as pd"
   ]
  },
  {
   "cell_type": "code",
   "execution_count": 2,
   "id": "c04c1edb",
   "metadata": {},
   "outputs": [],
   "source": [
    "# def extract_storyline(url: str):\n",
    "#     headers = {\"User-Agent\": \"Mozilla/5.0\"}\n",
    "#     response = requests.get(url, headers=headers)\n",
    "#     page_markups = bs.BeautifulSoup(response.content, \"html.parser\")\n",
    "#     storyline_tag = page_markups.find(\"span\", {\"class\": \"sc-e32edc92-2 hREhQQ\", \"data-testid\": \"plot-xl\"})\n",
    "#     if storyline_tag is None:\n",
    "#         return \"\"\n",
    "#     return storyline_tag.text.strip()"
   ]
  },
  {
   "cell_type": "code",
   "execution_count": 3,
   "id": "521e1459",
   "metadata": {},
   "outputs": [
    {
     "name": "stderr",
     "output_type": "stream",
     "text": [
      "C:\\Users\\hojat\\AppData\\Local\\Temp\\ipykernel_25748\\1337970435.py:1: DtypeWarning: Columns (1) have mixed types. Specify dtype option on import or set low_memory=False.\n",
      "  initial_dataframe = pd.read_csv(\"db_v4.csv\")\n"
     ]
    }
   ],
   "source": [
    "initial_dataframe = pd.read_csv(\"db_v4.csv\")\n",
    "\n",
    "\n",
    "storyline_dataframe = initial_dataframe[initial_dataframe[\"storyline\"].notnull()]\n",
    "no_storyline_dataframe = initial_dataframe[initial_dataframe[\"storyline\"].isnull()]\n",
    "\n"
   ]
  },
  {
   "cell_type": "code",
   "execution_count": 4,
   "id": "aca58704",
   "metadata": {},
   "outputs": [
    {
     "data": {
      "text/html": [
       "<div>\n",
       "<style scoped>\n",
       "    .dataframe tbody tr th:only-of-type {\n",
       "        vertical-align: middle;\n",
       "    }\n",
       "\n",
       "    .dataframe tbody tr th {\n",
       "        vertical-align: top;\n",
       "    }\n",
       "\n",
       "    .dataframe thead th {\n",
       "        text-align: right;\n",
       "    }\n",
       "</style>\n",
       "<table border=\"1\" class=\"dataframe\">\n",
       "  <thead>\n",
       "    <tr style=\"text-align: right;\">\n",
       "      <th></th>\n",
       "      <th>titleId</th>\n",
       "      <th>storyline</th>\n",
       "    </tr>\n",
       "  </thead>\n",
       "  <tbody>\n",
       "    <tr>\n",
       "      <th>7725</th>\n",
       "      <td>https://www.imdb.com/title/tt10077138/</td>\n",
       "      <td>While the Gadas are spending their Makar Sankr...</td>\n",
       "    </tr>\n",
       "    <tr>\n",
       "      <th>7728</th>\n",
       "      <td>https://www.imdb.com/title/tt10077142/</td>\n",
       "      <td>Marathi Casting Couch. Yes, a undercover web s...</td>\n",
       "    </tr>\n",
       "    <tr>\n",
       "      <th>7752</th>\n",
       "      <td>https://www.imdb.com/title/tt10077182/</td>\n",
       "      <td>Dennis travels to Pinetop-Lakeside, Arizona fo...</td>\n",
       "    </tr>\n",
       "    <tr>\n",
       "      <th>7754</th>\n",
       "      <td>https://www.imdb.com/title/tt10077186/</td>\n",
       "      <td>Marathi Casting Couch. Yes, a undercover web s...</td>\n",
       "    </tr>\n",
       "    <tr>\n",
       "      <th>7768</th>\n",
       "      <td>https://www.imdb.com/title/tt10077210/</td>\n",
       "      <td>Marathi Casting Couch. Yes, a undercover web s...</td>\n",
       "    </tr>\n",
       "  </tbody>\n",
       "</table>\n",
       "</div>"
      ],
      "text/plain": [
       "                                     titleId  \\\n",
       "7725  https://www.imdb.com/title/tt10077138/   \n",
       "7728  https://www.imdb.com/title/tt10077142/   \n",
       "7752  https://www.imdb.com/title/tt10077182/   \n",
       "7754  https://www.imdb.com/title/tt10077186/   \n",
       "7768  https://www.imdb.com/title/tt10077210/   \n",
       "\n",
       "                                              storyline  \n",
       "7725  While the Gadas are spending their Makar Sankr...  \n",
       "7728  Marathi Casting Couch. Yes, a undercover web s...  \n",
       "7752  Dennis travels to Pinetop-Lakeside, Arizona fo...  \n",
       "7754  Marathi Casting Couch. Yes, a undercover web s...  \n",
       "7768  Marathi Casting Couch. Yes, a undercover web s...  "
      ]
     },
     "execution_count": 4,
     "metadata": {},
     "output_type": "execute_result"
    }
   ],
   "source": [
    "storyline_dataframe.head()"
   ]
  },
  {
   "cell_type": "code",
   "execution_count": 5,
   "id": "2148a1e8",
   "metadata": {},
   "outputs": [
    {
     "data": {
      "text/html": [
       "<div>\n",
       "<style scoped>\n",
       "    .dataframe tbody tr th:only-of-type {\n",
       "        vertical-align: middle;\n",
       "    }\n",
       "\n",
       "    .dataframe tbody tr th {\n",
       "        vertical-align: top;\n",
       "    }\n",
       "\n",
       "    .dataframe thead th {\n",
       "        text-align: right;\n",
       "    }\n",
       "</style>\n",
       "<table border=\"1\" class=\"dataframe\">\n",
       "  <thead>\n",
       "    <tr style=\"text-align: right;\">\n",
       "      <th></th>\n",
       "      <th>titleId</th>\n",
       "      <th>storyline</th>\n",
       "    </tr>\n",
       "  </thead>\n",
       "  <tbody>\n",
       "    <tr>\n",
       "      <th>0</th>\n",
       "      <td>https://www.imdb.com/title/tt1005892/</td>\n",
       "      <td>NaN</td>\n",
       "    </tr>\n",
       "    <tr>\n",
       "      <th>1</th>\n",
       "      <td>https://www.imdb.com/title/tt10058920/</td>\n",
       "      <td>NaN</td>\n",
       "    </tr>\n",
       "    <tr>\n",
       "      <th>2</th>\n",
       "      <td>https://www.imdb.com/title/tt10058924/</td>\n",
       "      <td>NaN</td>\n",
       "    </tr>\n",
       "    <tr>\n",
       "      <th>3</th>\n",
       "      <td>https://www.imdb.com/title/tt10058926/</td>\n",
       "      <td>NaN</td>\n",
       "    </tr>\n",
       "    <tr>\n",
       "      <th>4</th>\n",
       "      <td>https://www.imdb.com/title/tt10058930/</td>\n",
       "      <td>NaN</td>\n",
       "    </tr>\n",
       "  </tbody>\n",
       "</table>\n",
       "</div>"
      ],
      "text/plain": [
       "                                  titleId storyline\n",
       "0   https://www.imdb.com/title/tt1005892/       NaN\n",
       "1  https://www.imdb.com/title/tt10058920/       NaN\n",
       "2  https://www.imdb.com/title/tt10058924/       NaN\n",
       "3  https://www.imdb.com/title/tt10058926/       NaN\n",
       "4  https://www.imdb.com/title/tt10058930/       NaN"
      ]
     },
     "execution_count": 5,
     "metadata": {},
     "output_type": "execute_result"
    }
   ],
   "source": [
    "no_storyline_dataframe.head()"
   ]
  },
  {
   "cell_type": "code",
   "execution_count": 6,
   "id": "501b43b5",
   "metadata": {},
   "outputs": [],
   "source": [
    "storyline_dataframe.to_csv(\"storyline_database.csv\", index=False)\n",
    "no_storyline_dataframe.to_csv(\"no_storyline_database.csv\", index=False)\n"
   ]
  }
 ],
 "metadata": {
  "kernelspec": {
   "display_name": ".venv",
   "language": "python",
   "name": "python3"
  },
  "language_info": {
   "codemirror_mode": {
    "name": "ipython",
    "version": 3
   },
   "file_extension": ".py",
   "mimetype": "text/x-python",
   "name": "python",
   "nbconvert_exporter": "python",
   "pygments_lexer": "ipython3",
   "version": "3.13.1"
  }
 },
 "nbformat": 4,
 "nbformat_minor": 5
}
