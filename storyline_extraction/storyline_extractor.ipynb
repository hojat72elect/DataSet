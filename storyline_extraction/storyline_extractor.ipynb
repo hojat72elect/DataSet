{
 "cells": [
  {
   "cell_type": "code",
   "execution_count": 5,
   "id": "8d9697fc",
   "metadata": {},
   "outputs": [],
   "source": [
    "import requests\n",
    "import bs4 as bs\n",
    "\n",
    "import pandas as pd"
   ]
  },
  {
   "cell_type": "code",
   "execution_count": 6,
   "id": "ecc0cf6f",
   "metadata": {},
   "outputs": [],
   "source": [
    "def extract_storyline(url: str):\n",
    "    headers = {\"User-Agent\": \"Mozilla/5.0\"}\n",
    "    response = requests.get(url, headers=headers)\n",
    "    page_markups = bs.BeautifulSoup(response.content, \"html.parser\")\n",
    "    storyline_tag = page_markups.find(\"span\", {\"class\": \"sc-e32edc92-2 hREhQQ\", \"data-testid\": \"plot-xl\"})\n",
    "    if storyline_tag is None:\n",
    "        return \"\"\n",
    "    return storyline_tag.text.strip()"
   ]
  },
  {
   "cell_type": "code",
   "execution_count": 7,
   "id": "a0892bf4",
   "metadata": {},
   "outputs": [],
   "source": [
    "initial_dataframe = pd.read_csv(\"part1.csv\")\n",
    "\n",
    "initial_dataframe[\"storyline\"] = None\n",
    "for index, row in initial_dataframe.head(10000).iterrows():\n",
    "    initial_dataframe.loc[index, \"storyline\"] = extract_storyline(row[\"titleId\"])\n",
    "\n",
    "initial_dataframe.to_csv(\"part1_with_storyline.csv\", index=False)"
   ]
  }
 ],
 "metadata": {
  "kernelspec": {
   "display_name": ".venv",
   "language": "python",
   "name": "python3"
  },
  "language_info": {
   "codemirror_mode": {
    "name": "ipython",
    "version": 3
   },
   "file_extension": ".py",
   "mimetype": "text/x-python",
   "name": "python",
   "nbconvert_exporter": "python",
   "pygments_lexer": "ipython3",
   "version": "3.13.1"
  }
 },
 "nbformat": 4,
 "nbformat_minor": 5
}
