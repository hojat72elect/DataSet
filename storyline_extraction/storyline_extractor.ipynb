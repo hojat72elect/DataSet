{
 "cells": [
  {
   "cell_type": "code",
   "execution_count": 12,
   "id": "209b360c",
   "metadata": {},
   "outputs": [],
   "source": [
    "import requests\n",
    "import bs4 as bs\n",
    "\n",
    "import pandas as pd"
   ]
  },
  {
   "cell_type": "code",
   "execution_count": 13,
   "id": "c04c1edb",
   "metadata": {},
   "outputs": [],
   "source": [
    "# def extract_storyline(url: str):\n",
    "#     headers = {\"User-Agent\": \"Mozilla/5.0\"}\n",
    "#     response = requests.get(url, headers=headers)\n",
    "#     page_markups = bs.BeautifulSoup(response.content, \"html.parser\")\n",
    "#     storyline_tag = page_markups.find(\"span\", {\"class\": \"sc-e32edc92-2 hREhQQ\", \"data-testid\": \"plot-xl\"})\n",
    "#     if storyline_tag is None:\n",
    "#         return \"\"\n",
    "#     return storyline_tag.text.strip()"
   ]
  },
  {
   "cell_type": "code",
   "execution_count": 14,
   "id": "521e1459",
   "metadata": {},
   "outputs": [],
   "source": [
    "part1_dataframe = pd.read_csv(\"part_1.csv\")\n",
    "part2_dataframe = pd.read_csv(\"part_2.csv\")\n",
    "part3_dataframe = pd.read_csv(\"part_3.csv\")\n",
    "\n",
    "\n",
    "merged_dataframe = pd.concat([part1_dataframe, part2_dataframe, part3_dataframe], ignore_index=True)\n",
    "\n",
    "\n",
    "merged_dataframe.to_csv(\"all_movies_and_their_storylines.csv\", index=False)\n",
    "\n"
   ]
  }
 ],
 "metadata": {
  "kernelspec": {
   "display_name": ".venv",
   "language": "python",
   "name": "python3"
  },
  "language_info": {
   "codemirror_mode": {
    "name": "ipython",
    "version": 3
   },
   "file_extension": ".py",
   "mimetype": "text/x-python",
   "name": "python",
   "nbconvert_exporter": "python",
   "pygments_lexer": "ipython3",
   "version": "3.13.1"
  }
 },
 "nbformat": 4,
 "nbformat_minor": 5
}
