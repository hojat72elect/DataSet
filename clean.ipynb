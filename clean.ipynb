{
 "cells": [
  {
   "cell_type": "code",
   "execution_count": null,
   "id": "b4e41e85",
   "metadata": {},
   "outputs": [],
   "source": [
    "def remove_read_all(s: str) -> str:\n",
    "    if s.endswith(\"... Read all\"):\n",
    "        return s[:-13]\n",
    "    return s"
   ]
  },
  {
   "cell_type": "code",
   "execution_count": 4,
   "id": "1ce5b6c7",
   "metadata": {},
   "outputs": [],
   "source": [
    "import pandas as pd\n",
    "\n",
    "\n",
    "initial_dataframe = pd.read_csv(\"sorted_database.csv\")"
   ]
  },
  {
   "cell_type": "code",
   "execution_count": 5,
   "id": "e7fe16b2",
   "metadata": {},
   "outputs": [],
   "source": [
    "initial_dataframe[\"storyLine\"] = initial_dataframe[\"storyLine\"].apply(remove_read_all)"
   ]
  },
  {
   "cell_type": "code",
   "execution_count": 6,
   "id": "7f568984",
   "metadata": {},
   "outputs": [],
   "source": [
    "initial_dataframe.to_csv(\"cleaned_read_all_database.csv\", index=False)"
   ]
  }
 ],
 "metadata": {
  "kernelspec": {
   "display_name": ".venv",
   "language": "python",
   "name": "python3"
  },
  "language_info": {
   "codemirror_mode": {
    "name": "ipython",
    "version": 3
   },
   "file_extension": ".py",
   "mimetype": "text/x-python",
   "name": "python",
   "nbconvert_exporter": "python",
   "pygments_lexer": "ipython3",
   "version": "3.13.1"
  }
 },
 "nbformat": 4,
 "nbformat_minor": 5
}
